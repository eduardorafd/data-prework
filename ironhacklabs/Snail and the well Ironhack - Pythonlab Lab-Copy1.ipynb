{
 "cells": [
  {
   "cell_type": "code",
   "execution_count": 2,
   "metadata": {},
   "outputs": [
    {
     "name": "stdout",
     "output_type": "stream",
     "text": [
      "The snail is at the bottom!\n",
      "\n",
      "Unfortunately, the snail tried to escape but... still there\n",
      "Time for sleep! with 10 cm raised today\n",
      "Day 1 is gone\n",
      "\n",
      "Unfortunately, the snail tried to escape but... still there\n",
      "Time for sleep! with 20 cm raised today\n",
      "Day 2 is gone\n",
      "\n",
      "Unfortunately, the snail tried to escape but... still there\n",
      "Time for sleep! with 30 cm raised today\n",
      "Day 3 is gone\n",
      "\n",
      "Unfortunately, the snail tried to escape but... still there\n",
      "Time for sleep! with 40 cm raised today\n",
      "Day 4 is gone\n",
      "\n",
      "Unfortunately, the snail tried to escape but... still there\n",
      "Time for sleep! with 50 cm raised today\n",
      "Day 5 is gone\n",
      "\n",
      "Unfortunately, the snail tried to escape but... still there\n",
      "Time for sleep! with 60 cm raised today\n",
      "Day 6 is gone\n",
      "\n",
      "Unfortunately, the snail tried to escape but... still there\n",
      "Time for sleep! with 70 cm raised today\n",
      "Day 7 is gone\n",
      "\n",
      "Unfortunately, the snail tried to escape but... still there\n",
      "Time for sleep! with 80 cm raised today\n",
      "Day 8 is gone\n",
      "\n",
      "Unfortunately, the snail tried to escape but... still there\n",
      "Time for sleep! with 90 cm raised today\n",
      "Day 9 is gone\n",
      "\n",
      "Unfortunately, the snail tried to escape but... still there\n",
      "Time for sleep! with 100 cm raised today\n",
      "Day 10 is gone\n",
      "\n",
      "The snail is out at this morning starting the day 11 !!!\n",
      "with 10 days gone and 130 cm raised\n",
      "The little animal is free!\n"
     ]
    }
   ],
   "source": [
    "# Snail and the well - 125 cm\n",
    "\n",
    "well_height = 125\n",
    "snail_position = 0\n",
    "daily_distance = 30\n",
    "nightly_distance = 20 \n",
    "days_gone = 0\n",
    "\n",
    "print(\"The snail is at the bottom!\\n\")\n",
    "\n",
    "while snail_position < well_height:\n",
    "    \n",
    "    snail_position += daily_distance\n",
    "    \n",
    "    if snail_position < well_height:\n",
    "        print(\"Unfortunately, the snail tried to escape but... still there\")\n",
    "        snail_position -= nightly_distance\n",
    "        print(\"Time for sleep! with\", snail_position, \"cm raised today\")\n",
    "        days_gone += 1 \n",
    "        print(\"Day\", days_gone, \"is gone\\n\")              \n",
    "    else:\n",
    "        print(\"The snail is out at this morning starting the day\", days_gone + 1, \"!!!\")\n",
    "        print(\"with\", days_gone, \"days gone and\", snail_position, \"cm raised\")\n",
    "        print(\"The little animal is free!\")\n",
    "        "
   ]
  }
 ],
 "metadata": {
  "kernelspec": {
   "display_name": "Python 3",
   "language": "python",
   "name": "python3"
  },
  "language_info": {
   "codemirror_mode": {
    "name": "ipython",
    "version": 3
   },
   "file_extension": ".py",
   "mimetype": "text/x-python",
   "name": "python",
   "nbconvert_exporter": "python",
   "pygments_lexer": "ipython3",
   "version": "3.8.5"
  }
 },
 "nbformat": 4,
 "nbformat_minor": 4
}
