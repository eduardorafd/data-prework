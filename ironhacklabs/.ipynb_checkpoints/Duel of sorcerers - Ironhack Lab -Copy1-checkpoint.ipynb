{
 "cells": [
  {
   "cell_type": "code",
   "execution_count": 5,
   "metadata": {},
   "outputs": [
    {
     "name": "stdout",
     "output_type": "stream",
     "text": [
      "The number of spells powers in the whole battle is: 20 \n",
      "\n",
      "The battle starts now!!!\n",
      "\n",
      "Gandalf 10 x 23 Saruman\n",
      "Saruman won the clash 1 !\n",
      "\n",
      "Gandalf 11 x 66 Saruman\n",
      "Saruman won the clash 2 !\n",
      "\n",
      "Gandalf 13 x 12 Saruman\n",
      "Gandalf won the clash 3 !\n",
      "\n",
      "Gandalf 30 x 43 Saruman\n",
      "Saruman won the clash 4 !\n",
      "\n",
      "Gandalf 22 x 12 Saruman\n",
      "Gandalf won the clash 5 !\n",
      "\n",
      "Gandalf 11 x 10 Saruman\n",
      "Gandalf won the clash 6 !\n",
      "\n",
      "Gandalf 10 x 44 Saruman\n",
      "Saruman won the clash 7 !\n",
      "\n",
      "Gandalf 33 x 23 Saruman\n",
      "Gandalf won the clash 8 !\n",
      "\n",
      "Gandalf 22 x 12 Saruman\n",
      "Gandalf won the clash 9 !\n",
      "\n",
      "Gandalf 22 x 17 Saruman\n",
      "Gandalf won the clash 10 !\n",
      "\n",
      "Gandalf won: 6 clashs\n",
      "Saruman won: 4 clashs\n",
      "Gandalf is the Champion!\n"
     ]
    }
   ],
   "source": [
    "# Duel of sorcerers - Second challenge:\n",
    "\n",
    "gandalf = [10, 11, 13, 30, 22, 11, 10, 33, 22, 22]\n",
    "saruman = [23, 66, 12, 43, 12, 10, 44, 23, 12, 17]\n",
    "\n",
    "spells = len(gandalf) + len(saruman)\n",
    "print(\"The number of spells powers in the whole battle is:\", spells, \"\\n\")\n",
    "\n",
    "clash = 0\n",
    "gandalf_wins = 0\n",
    "saruman_wins = 0\n",
    "\n",
    "print(\"The battle starts now!!!\\n\")\n",
    "\n",
    "# Clash-------------------------------------------------------------------------------------------------------------------------\n",
    "\n",
    "for i in range(len(gandalf)):\n",
    "    print(\"Gandalf\", gandalf[i], \"x\", saruman[i], \"Saruman\")\n",
    "    clash +=1\n",
    "    \n",
    "    if gandalf[i] > saruman[i]:\n",
    "        print(\"Gandalf won the clash\", clash, \"!\\n\")\n",
    "        gandalf_wins += 1\n",
    "    else:\n",
    "        print(\"Saruman won the clash\", clash, \"!\\n\")\n",
    "        saruman_wins += 1\n",
    "   \n",
    "    \n",
    "print(\"Gandalf won:\", gandalf_wins, \"clashs\") \n",
    "print(\"Saruman won:\", saruman_wins, \"clashs\")\n",
    "\n",
    "if gandalf_wins > saruman_wins:\n",
    "    print(\"Gandalf is the Champion!\")\n",
    "else:\n",
    "    print(\"Saruman is the Champion!\")"
   ]
  }
 ],
 "metadata": {
  "kernelspec": {
   "display_name": "Python 3",
   "language": "python",
   "name": "python3"
  },
  "language_info": {
   "codemirror_mode": {
    "name": "ipython",
    "version": 3
   },
   "file_extension": ".py",
   "mimetype": "text/x-python",
   "name": "python",
   "nbconvert_exporter": "python",
   "pygments_lexer": "ipython3",
   "version": "3.8.5"
  }
 },
 "nbformat": 4,
 "nbformat_minor": 4
}
