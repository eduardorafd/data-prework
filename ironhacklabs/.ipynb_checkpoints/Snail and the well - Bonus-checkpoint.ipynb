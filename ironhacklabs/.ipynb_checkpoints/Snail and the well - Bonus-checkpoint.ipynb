{
 "cells": [
  {
   "cell_type": "code",
   "execution_count": 4,
   "metadata": {
    "scrolled": false
   },
   "outputs": [
    {
     "name": "stdout",
     "output_type": "stream",
     "text": [
      "The snail is at the bottom!\n",
      "\n",
      "Unfortunately, the Snail tried to escape but... still there\n",
      "Time for sleep! with 10 cm raised today\n",
      "Day 1 is gone\n",
      "\n",
      "Unfortunately, the Snail tried to escape but... still there\n",
      "Time for sleep! with 11 cm raised today\n",
      "Day 2 is gone\n",
      "\n",
      "Unfortunately, the Snail tried to escape but... still there\n",
      "Time for sleep! with 24 cm raised today\n",
      "Day 3 is gone\n",
      "\n",
      "Unfortunately, the Snail tried to escape but... still there\n",
      "Time for sleep! with 81 cm raised today\n",
      "Day 4 is gone\n",
      "\n",
      "Unfortunately, the Snail tried to escape but... still there\n",
      "Time for sleep! with 105 cm raised today\n",
      "Day 5 is gone\n",
      "\n",
      "The Snail is out at this morning starting the day 6\n",
      "with 5 days gone and 150 cm raised\n",
      "The little animal is free!\n"
     ]
    }
   ],
   "source": [
    "# Snail and the well - 125 cm\n",
    "# How many days does it take for the snail to escape the well?\n",
    "\n",
    "well_height = 125\n",
    "snail_position = 0\n",
    "nightly_distance = 20 \n",
    "days_gone = 0\n",
    "advance_cm = [30, 21, 33, 77, 44, 45, 23, 45, 12, 34, 55]  \n",
    "        \n",
    "print(\"The snail is at the bottom!\\n\")\n",
    "\n",
    "while snail_position < well_height:\n",
    "    \n",
    "    for daily_distance in advance_cm:\n",
    "        snail_position += daily_distance\n",
    "          \n",
    "        if snail_position <= well_height:\n",
    "            print(\"Unfortunately, the Snail tried to escape but... still there\")\n",
    "            snail_position -= nightly_distance\n",
    "            print(\"Time for sleep! with\", snail_position, \"cm raised today\")\n",
    "            days_gone += 1 \n",
    "            print(\"Day\", days_gone, \"is gone\\n\")      \n",
    "        else:\n",
    "            print(\"The Snail is out at this morning starting the day\", days_gone + 1)\n",
    "            print(\"with\", days_gone, \"days gone and\", snail_position, \"cm raised\")\n",
    "            print(\"The little animal is free!\")\n",
    "            break \n",
    "            \n",
    "     \n",
    "        \n",
    "        \n",
    "           "
   ]
  },
  {
   "cell_type": "code",
   "execution_count": 5,
   "metadata": {},
   "outputs": [
    {
     "name": "stdout",
     "output_type": "stream",
     "text": [
      "You can see the displacements below since the first day until the snail has gone out:\n",
      "10\n",
      "1\n",
      "13\n",
      "57\n",
      "24\n"
     ]
    }
   ],
   "source": [
    "# How the snail took 5 days to get out , the advance_cm will have only 5 numbers now\n",
    "\n",
    "advance_cm = [30, 21, 33, 77, 44]\n",
    "nightly_distance = 20\n",
    "print(\"You can see the displacements below since the first day until the snail has gone out:\")\n",
    "\n",
    "for daily_distance in advance_cm:\n",
    "    daily_distance -= nightly_distance\n",
    "    print(daily_distance)"
   ]
  },
  {
   "cell_type": "code",
   "execution_count": 6,
   "metadata": {
    "scrolled": true
   },
   "outputs": [
    {
     "name": "stdout",
     "output_type": "stream",
     "text": [
      "The maximum displacement: 57 cm\n",
      "The minimum displacement: 1 cm\n",
      "The average progress is: 21.0 cm\n",
      "The standard desviation is: 21.737065119284157 cm\n"
     ]
    }
   ],
   "source": [
    "# Maximum and minimum displacement\n",
    "\n",
    "displacements = [10, 1, 13, 57, 24]\n",
    "print(\"The maximum displacement:\", max(displacements), \"cm\")\n",
    "print(\"The minimum displacement:\", min(displacements), \"cm\")\n",
    "\n",
    "# Average Progress \n",
    "\n",
    "x = sum(displacements)\n",
    "y = len(displacements)\n",
    "print(\"The average progress is:\", x/y, \"cm\")\n",
    "\n",
    "# Standard desviation\n",
    "\n",
    "import statistics\n",
    "std = statistics.stdev(displacements)\n",
    "print(\"The standard desviation is:\", std, \"cm\")"
   ]
  }
 ],
 "metadata": {
  "kernelspec": {
   "display_name": "Python 3",
   "language": "python",
   "name": "python3"
  },
  "language_info": {
   "codemirror_mode": {
    "name": "ipython",
    "version": 3
   },
   "file_extension": ".py",
   "mimetype": "text/x-python",
   "name": "python",
   "nbconvert_exporter": "python",
   "pygments_lexer": "ipython3",
   "version": "3.8.5"
  }
 },
 "nbformat": 4,
 "nbformat_minor": 4
}
