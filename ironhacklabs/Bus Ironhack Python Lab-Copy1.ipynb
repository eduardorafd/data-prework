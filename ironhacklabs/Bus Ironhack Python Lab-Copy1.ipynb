{
 "cells": [
  {
   "cell_type": "code",
   "execution_count": 4,
   "metadata": {
    "scrolled": false
   },
   "outputs": [
    {
     "name": "stdout",
     "output_type": "stream",
     "text": [
      "The number of stops is: 9 \n",
      "\n",
      "Stop 1 : 10 passengers entered\n",
      "The occupation is: 10 people\n",
      "\n",
      "Stop 2 : 3 passengers entered\n",
      "The occupation is: 13 people\n",
      "\n",
      "Stop 3 : -2 passengers from the bus\n",
      "the occupation is: 11 people\n",
      "\n",
      "Stop 4 : -1 passengers from the bus\n",
      "the occupation is: 10 people\n",
      "\n",
      "Stop 5 : 4 passengers entered\n",
      "The occupation is: 14 people\n",
      "\n",
      "Stop 6 : -4 passengers from the bus\n",
      "the occupation is: 10 people\n",
      "\n",
      "Stop 7 : -3 passengers from the bus\n",
      "the occupation is: 7 people\n",
      "\n",
      "Stop 8 : -2 passengers from the bus\n",
      "the occupation is: 5 people\n",
      "\n",
      "Stop 9 : -1 passengers from the bus\n",
      "the occupation is: 4 people\n",
      "\n"
     ]
    }
   ],
   "source": [
    "# Bus challenge 3:\n",
    "\n",
    "# Variables\n",
    "# bus_stop = (in, out)\n",
    "\n",
    "stops = [(10, 0), (4, 1), (3, 5), (3, 4), (5, 1), (1, 5), (5, 8), (4, 6), (2, 3)]\n",
    "\n",
    "# 1. Calculate the number of stops.\n",
    "\n",
    "num_of_stops = len(stops)\n",
    "print(\"The number of stops is:\", num_of_stops, \"\\n\")\n",
    "\n",
    "# 2. Assign to a variable a list whose elements are the number of passengers at each stop (in-out).\n",
    "\n",
    "stop = 0\n",
    "occupation = 0 \n",
    "occupation_total = []\n",
    "\n",
    "for i in stops:\n",
    "    stop += 1\n",
    "    \n",
    "    if i[0] > i[1]:\n",
    "        entered = i[0] - i[1]\n",
    "        print(\"Stop\", stop, \":\", entered, \"passengers entered\")\n",
    "        occupation += entered\n",
    "        print(\"The occupation is:\", occupation, \"people\\n\")\n",
    "        occupation_total.append(occupation)\n",
    "        \n",
    "    elif i[0] == i[1]:\n",
    "        print(\"The stop\", stop, \"do not received any passengers\\n\")   \n",
    "    else:\n",
    "        exited = i[0] - i[1]\n",
    "        occupation += exited\n",
    "        print(\"Stop\", stop, \":\", exited, \"passengers from the bus\")\n",
    "        print(\"the occupation is:\", occupation, \"people\\n\")\n",
    "        occupation_total.append(occupation)\n",
    "        \n",
    "\n"
   ]
  },
  {
   "cell_type": "code",
   "execution_count": 3,
   "metadata": {},
   "outputs": [
    {
     "name": "stdout",
     "output_type": "stream",
     "text": [
      "The maximum occupation was: 14 passengers\n",
      "The average occupation is: 9.333333333333334\n",
      "The standard desviation of the occupation is: 3.391164991562634\n"
     ]
    }
   ],
   "source": [
    "# 3. Find the maximum occupation of the bus.----------------------------------------------------------------------------        \n",
    "     \n",
    "print(\"The maximum occupation was:\", max(occupation_total), \"passengers\")\n",
    "\n",
    "# 4. Calculate the average occupation. And the standard deviation.------------------------------------------------------\n",
    "\n",
    "import statistics\n",
    "x = statistics.mean(occupation_total)\n",
    "print(\"The average occupation is:\", x,)\n",
    "\n",
    "y = statistics.stdev(occupation_total)\n",
    "print(\"The standard desviation of the occupation is:\", y)\n",
    "\n",
    "\n"
   ]
  }
 ],
 "metadata": {
  "kernelspec": {
   "display_name": "Python 3",
   "language": "python",
   "name": "python3"
  },
  "language_info": {
   "codemirror_mode": {
    "name": "ipython",
    "version": 3
   },
   "file_extension": ".py",
   "mimetype": "text/x-python",
   "name": "python",
   "nbconvert_exporter": "python",
   "pygments_lexer": "ipython3",
   "version": "3.8.5"
  }
 },
 "nbformat": 4,
 "nbformat_minor": 4
}
