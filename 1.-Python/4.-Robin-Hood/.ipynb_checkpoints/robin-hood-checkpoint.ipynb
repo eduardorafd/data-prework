{
 "cells": [
  {
   "cell_type": "markdown",
   "metadata": {},
   "source": [
    "<img src=\"https://bit.ly/2VnXWr2\" width=\"100\" align=\"left\"/>"
   ]
  },
  {
   "cell_type": "markdown",
   "metadata": {},
   "source": [
    "# Robin Hood\n",
    "Robin Hood has entered a competition to win the archery contest in Sherwood. With his bow and arrows, he needs to shoot on a target and try to hit as close as possible to the center.\n",
    "\n",
    "![](images/arrows.jpg)\n",
    "\n",
    "## Context\n",
    "In this challenge, the landing position of arrows shot by archers in the competition will be represented using 2-dimensional coordinates. \n",
    "\n",
    "In the 2-dimensional space, a point can be defined by a pair of values that correspond to the horizontal coordinate (x) and the vertical coordinate (y). For example, in our case, an arrow that hits the center of the archery target will land in position (0, 0) on the coordinate axes. \n",
    "\n",
    "The space can be divided into 4 zones (quadrants): Q1, Q2, Q3, Q4. If a point is in Q1, both its x coordinate and y coordinate are positive. Any point with a null x or y coordinate is considered to not belong to any quadrant. \n",
    "\n",
    "If you want to know more about the cartesian coordinate system, you can check this [link](https://en.wikipedia.org/wiki/Cartesian_coordinate_system). \n",
    "\n",
    "## Tools\n",
    "You don't necessarily need to use all the tools. Maybe you opt to use some of them or completely different ones, they are given to help you shape the exercise. Programming exercises can be solved in many different ways.\n",
    "* Data structures: **lists, sets, tuples**\n",
    "* Conditional statements: **if-elif-else**\n",
    "* Loop: **while/for**\n",
    "* Minimum (optional sorting)\n",
    "\n",
    "## Tasks\n",
    "Robin Hood has hit the following points:"
   ]
  },
  {
   "cell_type": "code",
   "execution_count": null,
   "metadata": {},
   "outputs": [],
   "source": [
    "points = [(4, 5), (-0, 2), (4, 7), (1, -3), (3, -2), (4, 5), (3, 2), (5, 7), (-5, 7), (2, 2), (-4, 5), (0, -2),\n",
    "          (-4, 7), (-1, 3), (-3, 2), (-4, -5), (-3, 2), (5, 7), (5, 7), (2, 2), (9, 9), (-8, -9)]"
   ]
  },
  {
   "cell_type": "markdown",
   "metadata": {},
   "source": [
    "#### 1. Robin Hood is famous for hitting an arrow with another arrow. Find the coordinates of the points where an arrow hits another arrow."
   ]
  },
  {
   "cell_type": "code",
   "execution_count": 4,
   "metadata": {},
   "outputs": [
    {
     "name": "stdout",
     "output_type": "stream",
     "text": [
      "The targets that one arrow hits another arrow: [(-3, 2), (4, 5), (5, 7), (2, 2)]\n"
     ]
    }
   ],
   "source": [
    "duplicate_points = set(points)\n",
    "for i in duplicate_points:\n",
    "    points.remove(i)\n",
    "points = list(set(points))\n",
    "print(\"The targets that one arrow hits another arrow:\", points)  "
   ]
  },
  {
   "cell_type": "markdown",
   "metadata": {},
   "source": [
    "#### 2. Calculate how many arrows have fallen in each quadrant. \n",
    "**Note**: the arrows that fall in the axis (x=0 or y=0) don't belong to any quadrant."
   ]
  },
  {
   "cell_type": "code",
   "execution_count": 3,
   "metadata": {},
   "outputs": [
    {
     "name": "stdout",
     "output_type": "stream",
     "text": [
      "This arrow: (4, 5) fell in the Q1 quadrant\n",
      "\n",
      "This arrow: (0, 2) do not fell in any quadrant\n",
      "\n",
      "This arrow: (4, 7) fell in the Q1 quadrant\n",
      "\n",
      "This arrow: (1, -3) fell in the Q4 quadrant\n",
      "\n",
      "This arrow: (3, -2) fell in the Q4 quadrant\n",
      "\n",
      "This arrow: (4, 5) fell in the Q1 quadrant\n",
      "\n",
      "This arrow: (3, 2) fell in the Q1 quadrant\n",
      "\n",
      "This arrow: (5, 7) fell in the Q1 quadrant\n",
      "\n",
      "this arrow: (-5, 7) fell in the Q2 quadrant\n",
      "\n",
      "This arrow: (2, 2) fell in the Q1 quadrant\n",
      "\n",
      "this arrow: (-4, 5) fell in the Q2 quadrant\n",
      "\n",
      "This arrow: (0, -2) do not fell in any quadrant\n",
      "\n",
      "this arrow: (-4, 7) fell in the Q2 quadrant\n",
      "\n",
      "this arrow: (-1, 3) fell in the Q2 quadrant\n",
      "\n",
      "this arrow: (-3, 2) fell in the Q2 quadrant\n",
      "\n",
      "This arrow: (-4, -5) fell in the Q3 quadrant\n",
      "\n",
      "this arrow: (-3, 2) fell in the Q2 quadrant\n",
      "\n",
      "This arrow: (5, 7) fell in the Q1 quadrant\n",
      "\n",
      "This arrow: (5, 7) fell in the Q1 quadrant\n",
      "\n",
      "This arrow: (2, 2) fell in the Q1 quadrant\n",
      "\n",
      "This arrow: (9, 9) fell in the Q1 quadrant\n",
      "\n",
      "This arrow: (-8, -9) fell in the Q3 quadrant\n",
      "\n",
      "10 arrows fell in the Q1 quadrant\n",
      "\n",
      "2 arrows fell in the Q2 quadrant\n",
      "\n",
      "6 arrows fell in the Q3 quadrant\n",
      "\n",
      "2 arrows fell in the Q4 quadrant\n",
      "\n",
      "2 do not fell in any quadrant\n",
      "\n"
     ]
    }
   ],
   "source": [
    "Q1 = 0\n",
    "Q2 = 0\n",
    "Q3 = 0\n",
    "Q4 = 0\n",
    "none = 0\n",
    "\n",
    "for i in points:\n",
    "    x = i[0]\n",
    "    y = i[1]\n",
    "    \n",
    "    if x > 0 and y > 0:\n",
    "        print(\"This arrow:\", i, \"fell in the Q1 quadrant\\n\")\n",
    "        Q1 += 1\n",
    "    elif x > 0 and y < 0:\n",
    "        print(\"This arrow:\", i, \"fell in the Q4 quadrant\\n\")\n",
    "        Q2 += 1\n",
    "    elif x < 0 and y > 0:\n",
    "        print(\"this arrow:\", i ,\"fell in the Q2 quadrant\\n\")\n",
    "        Q3 += 1\n",
    "    elif x < 0 and y < 0:\n",
    "        print(\"This arrow:\", i, \"fell in the Q3 quadrant\\n\")\n",
    "        Q4 += 1\n",
    "    else:\n",
    "        print(\"This arrow:\", i, \"do not fell in any quadrant\\n\")\n",
    "        none += 1 \n",
    "        \n",
    "print(Q1, \"arrows fell in the Q1 quadrant\\n\")\n",
    "print(Q2, \"arrows fell in the Q2 quadrant\\n\") \n",
    "print(Q3, \"arrows fell in the Q3 quadrant\\n\") \n",
    "print(Q4, \"arrows fell in the Q4 quadrant\\n\") \n",
    "print(none, \"do not fell in any quadrant\\n\")"
   ]
  },
  {
   "cell_type": "markdown",
   "metadata": {},
   "source": [
    "#### 3. Find the point closest to the center. Calculate its distance to the center. \n",
    "Take into account that there might be more than one point at the minimum distance to the center.\n",
    "\n",
    "**Hint**: Use the Euclidean distance. You can find more information about it [here](https://en.wikipedia.org/wiki/Euclidean_distance).  \n",
    "**Hint**: Defining a function that calculates the distance to the center can help."
   ]
  },
  {
   "cell_type": "code",
   "execution_count": 1,
   "metadata": {},
   "outputs": [
    {
     "name": "stdout",
     "output_type": "stream",
     "text": [
      "The distance to the center for the point (4, 5) is: 6.4031242374328485 \n",
      "\n",
      "The distance to the center for the point (0, 2) is: 2.0 \n",
      "\n",
      "The distance to the center for the point (4, 7) is: 8.06225774829855 \n",
      "\n",
      "The distance to the center for the point (1, -3) is: 3.1622776601683795 \n",
      "\n",
      "The distance to the center for the point (3, -2) is: 3.605551275463989 \n",
      "\n",
      "The distance to the center for the point (4, 5) is: 6.4031242374328485 \n",
      "\n",
      "The distance to the center for the point (3, 2) is: 3.605551275463989 \n",
      "\n",
      "The distance to the center for the point (5, 7) is: 8.602325267042627 \n",
      "\n",
      "The distance to the center for the point (-5, 7) is: 8.602325267042627 \n",
      "\n",
      "The distance to the center for the point (2, 2) is: 2.8284271247461903 \n",
      "\n",
      "The distance to the center for the point (-4, 5) is: 6.4031242374328485 \n",
      "\n",
      "The distance to the center for the point (0, -2) is: 2.0 \n",
      "\n",
      "The distance to the center for the point (-4, 7) is: 8.06225774829855 \n",
      "\n",
      "The distance to the center for the point (-1, 3) is: 3.1622776601683795 \n",
      "\n",
      "The distance to the center for the point (-3, 2) is: 3.605551275463989 \n",
      "\n",
      "The distance to the center for the point (-4, -5) is: 6.4031242374328485 \n",
      "\n",
      "The distance to the center for the point (-3, 2) is: 3.605551275463989 \n",
      "\n",
      "The distance to the center for the point (5, 7) is: 8.602325267042627 \n",
      "\n",
      "The distance to the center for the point (5, 7) is: 8.602325267042627 \n",
      "\n",
      "The distance to the center for the point (2, 2) is: 2.8284271247461903 \n",
      "\n",
      "The distance to the center for the point (9, 9) is: 12.727922061357855 \n",
      "\n",
      "    -The point (9, 9) will not hit the target with radius 9\n",
      "\n",
      "The distance to the center for the point (-8, -9) is: 12.041594578792296 \n",
      "\n",
      "    -The point (-8, -9) will not hit the target with radius 9\n",
      "\n"
     ]
    }
   ],
   "source": [
    "center = (0, 0)\n",
    "\n",
    "points = [(4, 5), (-0, 2), (4, 7), (1, -3), (3, -2), (4, 5), (3, 2), (5, 7), (-5, 7), (2, 2), (-4, 5), (0, -2),\n",
    "          (-4, 7), (-1, 3), (-3, 2), (-4, -5), (-3, 2), (5, 7), (5, 7), (2, 2), (9, 9), (-8, -9)]\n",
    "\n",
    "import math\n",
    "\n",
    "radius_target = 9\n",
    "closest = []\n",
    "for i in points:\n",
    "    distance = math.sqrt( ((center[0] - i[0])**2) + (center[1] - i[1])**2)\n",
    "    print(\"The distance to the center for the point\", i, \"is:\", distance, \"\\n\")\n",
    "    closest.append(distance)\n",
    "    \n",
    "    if distance > radius_target:\n",
    "       print(\"    -The point\", i, \"will not hit the target with radius 9\\n\")"
   ]
  },
  {
   "cell_type": "markdown",
   "metadata": {},
   "source": [
    "#### 4. If the archery target has a radius of 9, calculate the number of arrows that won't hit the target. \n",
    "**Hint**: Use the function created in step 3. "
   ]
  },
  {
   "cell_type": "code",
   "execution_count": 2,
   "metadata": {},
   "outputs": [
    {
     "name": "stdout",
     "output_type": "stream",
     "text": [
      "The shortest distance is: 2.0\n",
      "The points closest to the center are: (0, 2) and (0, -2) \n",
      "\n"
     ]
    }
   ],
   "source": [
    "print(\"The shortest distance is:\", min(closest))   \n",
    "print(\"The points closest to the center are:\", points[1], \"and\", points[11], \"\\n\")"
   ]
  }
 ],
 "metadata": {
  "kernelspec": {
   "display_name": "Python 3",
   "language": "python",
   "name": "python3"
  },
  "language_info": {
   "codemirror_mode": {
    "name": "ipython",
    "version": 3
   },
   "file_extension": ".py",
   "mimetype": "text/x-python",
   "name": "python",
   "nbconvert_exporter": "python",
   "pygments_lexer": "ipython3",
   "version": "3.8.5"
  }
 },
 "nbformat": 4,
 "nbformat_minor": 2
}
