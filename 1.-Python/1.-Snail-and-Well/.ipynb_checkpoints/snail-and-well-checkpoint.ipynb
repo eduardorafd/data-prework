{
 "cells": [
  {
   "cell_type": "markdown",
   "metadata": {},
   "source": [
    "<img src=\"https://bit.ly/2VnXWr2\" width=\"100\" align=\"left\">"
   ]
  },
  {
   "cell_type": "markdown",
   "metadata": {},
   "source": [
    "# The Snail and the Well\n",
    "\n",
    "A snail falls at the bottom of a 125 cm well. Each day the snail rises 30 cm. But at night, while sleeping, slides 20 cm because the walls are wet. How many days does it take for the snail to escape the well?\n",
    "\n",
    "**Hint**: The snail gets out of the well when it surpasses the 125cm of height.\n",
    "\n",
    "## Tools\n",
    "\n",
    "1. Loop: **while**\n",
    "2. Conditional statements: **if-else**\n",
    "3. Function: **print()**\n",
    "\n",
    "## Tasks\n",
    "\n",
    "#### 1. Assign the challenge data to variables with representative names: `well_height`, `daily_distance`, `nightly_distance` and `snail_position`."
   ]
  },
  {
   "cell_type": "code",
   "execution_count": null,
   "metadata": {},
   "outputs": [],
   "source": [
    "well_height = 125\n",
    "snail_position = 0\n",
    "daily_distance = 30\n",
    "nightly_distance = 20 "
   ]
  },
  {
   "cell_type": "markdown",
   "metadata": {},
   "source": [
    "#### 2. Create a variable `days` to keep count of the days that pass until the snail escapes the well. "
   ]
  },
  {
   "cell_type": "code",
   "execution_count": 1,
   "metadata": {},
   "outputs": [],
   "source": [
    "days_gone = 0"
   ]
  },
  {
   "cell_type": "markdown",
   "metadata": {},
   "source": [
    "#### 3. Find the solution to the challenge using the variables defined above. "
   ]
  },
  {
   "cell_type": "code",
   "execution_count": 3,
   "metadata": {},
   "outputs": [
    {
     "name": "stdout",
     "output_type": "stream",
     "text": [
      "The snail is at the bottom!\n",
      "\n",
      "Unfortunately, the snail tried to escape but... still there\n",
      "Time for sleep! with 10 cm raised today\n",
      "Day 1 is gone\n",
      "\n",
      "Unfortunately, the snail tried to escape but... still there\n",
      "Time for sleep! with 20 cm raised today\n",
      "Day 2 is gone\n",
      "\n",
      "Unfortunately, the snail tried to escape but... still there\n",
      "Time for sleep! with 30 cm raised today\n",
      "Day 3 is gone\n",
      "\n",
      "Unfortunately, the snail tried to escape but... still there\n",
      "Time for sleep! with 40 cm raised today\n",
      "Day 4 is gone\n",
      "\n",
      "Unfortunately, the snail tried to escape but... still there\n",
      "Time for sleep! with 50 cm raised today\n",
      "Day 5 is gone\n",
      "\n",
      "Unfortunately, the snail tried to escape but... still there\n",
      "Time for sleep! with 60 cm raised today\n",
      "Day 6 is gone\n",
      "\n",
      "Unfortunately, the snail tried to escape but... still there\n",
      "Time for sleep! with 70 cm raised today\n",
      "Day 7 is gone\n",
      "\n",
      "Unfortunately, the snail tried to escape but... still there\n",
      "Time for sleep! with 80 cm raised today\n",
      "Day 8 is gone\n",
      "\n",
      "Unfortunately, the snail tried to escape but... still there\n",
      "Time for sleep! with 90 cm raised today\n",
      "Day 9 is gone\n",
      "\n",
      "Unfortunately, the snail tried to escape but... still there\n",
      "Time for sleep! with 100 cm raised today\n",
      "Day 10 is gone\n",
      "\n",
      "The snail is out at this morning starting the day 11 !!!\n",
      "with 10 days gone and 130 cm raised\n",
      "The little animal is free!\n"
     ]
    }
   ],
   "source": [
    "well_height = 125\n",
    "snail_position = 0\n",
    "daily_distance = 30\n",
    "nightly_distance = 20 \n",
    "print(\"The snail is at the bottom!\\n\")\n",
    "\n",
    "while snail_position < well_height:\n",
    "    \n",
    "    snail_position += daily_distance\n",
    "    \n",
    "    if snail_position < well_height:\n",
    "        print(\"Unfortunately, the snail tried to escape but... still there\")\n",
    "        snail_position -= nightly_distance\n",
    "        print(\"Time for sleep! with\", snail_position, \"cm raised today\")\n",
    "        days_gone += 1 \n",
    "        print(\"Day\", days_gone, \"is gone\\n\")              \n",
    "    else:\n",
    "        print(\"The snail is out at this morning starting the day\", days_gone + 1, \"!!!\")\n",
    "        print(\"with\", days_gone, \"days gone and\", snail_position, \"cm raised\")\n",
    "        print(\"The little animal is free!\")"
   ]
  },
  {
   "cell_type": "markdown",
   "metadata": {},
   "source": [
    "#### 4. Print the solution."
   ]
  },
  {
   "cell_type": "code",
   "execution_count": 4,
   "metadata": {},
   "outputs": [
    {
     "name": "stdout",
     "output_type": "stream",
     "text": [
      "The snail will get out of the well in 10 days\n"
     ]
    }
   ],
   "source": [
    "print(\"The snail will get out of the well in\" , days_gone, \"days\")"
   ]
  },
  {
   "cell_type": "markdown",
   "metadata": {},
   "source": [
    "## Bonus\n",
    "The distance traveled by the snail each day is now defined by a list.\n",
    "```\n",
    "advance_cm = [30, 21, 33, 77, 44, 45, 23, 45, 12, 34, 55]\n",
    "```\n",
    "On the first day, the snail rises 30cm but during the night it slides 20cm. On the second day, the snail rises 21cm but during the night it slides 20cm, and so on. \n",
    "\n",
    "#### 1. How many days does it take for the snail to escape the well?\n",
    "Follow the same guidelines as in the previous challenge.\n",
    "\n",
    "**Hint**: Remember that the snail gets out of the well when it surpasses the 125cm of height."
   ]
  },
  {
   "cell_type": "code",
   "execution_count": 5,
   "metadata": {},
   "outputs": [
    {
     "name": "stdout",
     "output_type": "stream",
     "text": [
      "The snail is at the bottom!\n",
      "\n",
      "Unfortunately, the Snail tried to escape but... still there\n",
      "Time for sleep! with 10 cm raised today\n",
      "Day 1 is gone\n",
      "\n",
      "Unfortunately, the Snail tried to escape but... still there\n",
      "Time for sleep! with 11 cm raised today\n",
      "Day 2 is gone\n",
      "\n",
      "Unfortunately, the Snail tried to escape but... still there\n",
      "Time for sleep! with 24 cm raised today\n",
      "Day 3 is gone\n",
      "\n",
      "Unfortunately, the Snail tried to escape but... still there\n",
      "Time for sleep! with 81 cm raised today\n",
      "Day 4 is gone\n",
      "\n",
      "Unfortunately, the Snail tried to escape but... still there\n",
      "Time for sleep! with 105 cm raised today\n",
      "Day 5 is gone\n",
      "\n",
      "The Snail is out at this morning starting the day 6\n",
      "with 5 days gone and 150 cm raised\n",
      "The little animal is free!\n"
     ]
    }
   ],
   "source": [
    "# How the snail took 5 days to get out , the advance_cm will have only 5 numbers now\n",
    "\n",
    "well_height = 125\n",
    "snail_position = 0\n",
    "nightly_distance = 20 \n",
    "days_gone = 0\n",
    "advance_cm = [30, 21, 33, 77, 44, 45, 23, 45, 12, 34, 55]  \n",
    "        \n",
    "print(\"The snail is at the bottom!\\n\")\n",
    "\n",
    "while snail_position < well_height:\n",
    "    \n",
    "    for daily_distance in advance_cm:\n",
    "        snail_position += daily_distance\n",
    "          \n",
    "        if snail_position <= well_height:\n",
    "            print(\"Unfortunately, the Snail tried to escape but... still there\")\n",
    "            snail_position -= nightly_distance\n",
    "            print(\"Time for sleep! with\", snail_position, \"cm raised today\")\n",
    "            days_gone += 1 \n",
    "            print(\"Day\", days_gone, \"is gone\\n\")      \n",
    "        else:\n",
    "            print(\"The Snail is out at this morning starting the day\", days_gone + 1)\n",
    "            print(\"with\", days_gone, \"days gone and\", snail_position, \"cm raised\")\n",
    "            print(\"The little animal is free!\")\n",
    "            break "
   ]
  },
  {
   "cell_type": "markdown",
   "metadata": {},
   "source": [
    "#### 2. What is its maximum displacement in one day? And its minimum? Calculate the displacement using only the travel distance of the days used to get out of the well. \n",
    "**Hint**: Remember that displacement means the total distance risen taking into account that the snail slides at night.  "
   ]
  },
  {
   "cell_type": "code",
   "execution_count": 6,
   "metadata": {},
   "outputs": [
    {
     "name": "stdout",
     "output_type": "stream",
     "text": [
      "You can see the displacements below since the first day until the snail has gone out:\n",
      "10\n",
      "1\n",
      "13\n",
      "57\n",
      "24\n",
      "The maximum displacement: 57 cm\n",
      "The minimum displacement: 1 cm\n"
     ]
    }
   ],
   "source": [
    "advance_cm = [30, 21, 33, 77, 44]\n",
    "nightly_distance = 20\n",
    "print(\"You can see the displacements below since the first day until the snail has gone out:\")\n",
    "\n",
    "for daily_distance in advance_cm:\n",
    "    daily_distance -= nightly_distance\n",
    "    print(daily_distance)\n",
    "\n",
    "displacements = [10, 1, 13, 57, 24]\n",
    "print(\"The maximum displacement:\", max(displacements), \"cm\")\n",
    "print(\"The minimum displacement:\", min(displacements), \"cm\")\n"
   ]
  },
  {
   "cell_type": "markdown",
   "metadata": {},
   "source": [
    "#### 3. What is its average progress? Take into account the snail slides at night."
   ]
  },
  {
   "cell_type": "code",
   "execution_count": 7,
   "metadata": {},
   "outputs": [
    {
     "name": "stdout",
     "output_type": "stream",
     "text": [
      "The average progress is: 21.0 cm\n"
     ]
    }
   ],
   "source": [
    "x = sum(displacements)\n",
    "y = len(displacements)\n",
    "print(\"The average progress is:\", x/y, \"cm\")"
   ]
  },
  {
   "cell_type": "markdown",
   "metadata": {},
   "source": [
    "#### 4. What is the standard deviation of its displacement? Take into account the snail slides at night."
   ]
  },
  {
   "cell_type": "code",
   "execution_count": 8,
   "metadata": {},
   "outputs": [
    {
     "name": "stdout",
     "output_type": "stream",
     "text": [
      "The standard desviation is: 21.737065119284157 cm\n"
     ]
    }
   ],
   "source": [
    "import statistics\n",
    "std = statistics.stdev(displacements)\n",
    "print(\"The standard desviation is:\", std, \"cm\")"
   ]
  }
 ],
 "metadata": {
  "kernelspec": {
   "display_name": "Python 3",
   "language": "python",
   "name": "python3"
  },
  "language_info": {
   "codemirror_mode": {
    "name": "ipython",
    "version": 3
   },
   "file_extension": ".py",
   "mimetype": "text/x-python",
   "name": "python",
   "nbconvert_exporter": "python",
   "pygments_lexer": "ipython3",
   "version": "3.8.5"
  }
 },
 "nbformat": 4,
 "nbformat_minor": 2
}
