{
 "cells": [
  {
   "cell_type": "markdown",
   "metadata": {},
   "source": [
    "<img src=\"https://bit.ly/2VnXWr2\" width=\"100\" align=\"left\">"
   ]
  },
  {
   "cell_type": "markdown",
   "metadata": {},
   "source": [
    "# Temperature Sensor\n",
    "\n",
    "There is a temperature sensor in the processor of your company's server. The company wants to analyze the data provided by the sensor to decide if they should change the cooling system for a better one. As changing the cooling system is expensive and you are an excellent data analyst, you can't make a decision without basis.\n",
    "\n",
    "## Tools\n",
    "You don't necessarily need to use all the tools. Maybe you opt to use some of them or completely different ones, they are given to help you shape the exercise. Programming exercises can be solved in many different ways.\n",
    "1. Data structures: **lists**\n",
    "2. Loops: **list comprehension**\n",
    "3. Functions: **min, max, print, len**\n",
    "4. Conditional statements: **if-elif-else**\n",
    "\n",
    "## Tasks\n",
    "The temperatures measured throughout the 24 hours of a day are:"
   ]
  },
  {
   "cell_type": "code",
   "execution_count": null,
   "metadata": {},
   "outputs": [],
   "source": [
    "temperatures_C = [33, 66, 65, 0, 59, 60, 62, 64, 70, 76, 80, 81, 80, 83, 90, 79, 61, 53, 50, 49, 53, 48, 45, 39]"
   ]
  },
  {
   "cell_type": "markdown",
   "metadata": {},
   "source": [
    "The first element of the list is the temperature at 12am, the second element is the temperature at 1am, and so on. \n",
    "\n",
    "The company has decided that if one of the following events occurs, then the cooling system needs to be replaced for a new one to avoid damaging the processor.\n",
    "* More than 4 temperatures are greater than or equal to 70ºC.\n",
    "* Any temperature is above 80ºC.\n",
    "* The average temperature exceeds 65ºC.\n",
    "\n",
    "Follow the steps so that you can make the decision.\n",
    "\n",
    "#### 1. Find the minimum temperature of the day and store it in a variable."
   ]
  },
  {
   "cell_type": "code",
   "execution_count": 14,
   "metadata": {},
   "outputs": [
    {
     "name": "stdout",
     "output_type": "stream",
     "text": [
      "The minimum temperature is: 33 ºC\n"
     ]
    }
   ],
   "source": [
    "print(\"The minimum temperature is:\", min(temperatures_C), \"ºC\")"
   ]
  },
  {
   "cell_type": "markdown",
   "metadata": {},
   "source": [
    "#### 2. Find the maximum temperature of the day and store it in a variable."
   ]
  },
  {
   "cell_type": "code",
   "execution_count": 13,
   "metadata": {},
   "outputs": [
    {
     "name": "stdout",
     "output_type": "stream",
     "text": [
      "The maximum temperature is: 90 ºC\n"
     ]
    }
   ],
   "source": [
    "print(\"The maximum temperature is:\", max(temperatures_C), \"ºC\")"
   ]
  },
  {
   "cell_type": "markdown",
   "metadata": {},
   "source": [
    "#### 3. Create a list with the temperatures that are greater than or equal to 70ºC. Store it in a variable."
   ]
  },
  {
   "cell_type": "code",
   "execution_count": 12,
   "metadata": {},
   "outputs": [
    {
     "name": "stdout",
     "output_type": "stream",
     "text": [
      "The temperatures that are greater than or equal to 70ºC: [70, 76, 80, 81, 80, 83, 90, 79]\n"
     ]
    }
   ],
   "source": [
    "temperatures_greater = []\n",
    "\n",
    "for i in temperatures_C:\n",
    "    if i >= 70:\n",
    "        temperatures_greater.append(i)\n",
    "print(\"The temperatures that are greater than or equal to 70ºC:\", temperatures_greater)"
   ]
  },
  {
   "cell_type": "markdown",
   "metadata": {},
   "source": [
    "#### 4. Find the average temperature of the day and store it in a variable."
   ]
  },
  {
   "cell_type": "code",
   "execution_count": 11,
   "metadata": {},
   "outputs": [
    {
     "name": "stdout",
     "output_type": "stream",
     "text": [
      "The average temperature of the day is: 62.75 ºC\n",
      "\n"
     ]
    }
   ],
   "source": [
    "import statistics\n",
    "average = statistics.mean(temperatures_C)\n",
    "print(\"The average temperature of the day is:\", average, \"ºC\\n\")"
   ]
  },
  {
   "cell_type": "markdown",
   "metadata": {},
   "source": [
    "#### 5. Imagine that there was a sensor failure at 3am and the data for that specific hour was not recorded. How would you estimate the missing value? Replace the current value of the list at 3am for an estimation. "
   ]
  },
  {
   "cell_type": "code",
   "execution_count": 15,
   "metadata": {},
   "outputs": [
    {
     "name": "stdout",
     "output_type": "stream",
     "text": [
      "I added the number 60 at 3am spot because it is the average rounded of the list\n",
      "New list: [33, 66, 65, 60, 59, 60, 62, 64, 70, 76, 80, 81, 80, 83, 90, 79, 61, 53, 50, 49, 53, 48, 45, 39] \n",
      "\n"
     ]
    }
   ],
   "source": [
    "temperatures_C = [33, 66, 65, 0, 59, 60, 62, 64, 70, 76, 80, 81, 80, 83, 90, 79, 61, 53, 50, 49, 53, 48, 45, 39]\n",
    "temperatures_C.remove(0)\n",
    "temperatures_C.insert(3, 60)\n",
    "print(\"I added the number 60 at 3am spot because it is the average rounded of the list\")\n",
    "print(\"New list:\", temperatures_C, \"\\n\")"
   ]
  },
  {
   "cell_type": "markdown",
   "metadata": {},
   "source": [
    "#### 6. Bonus: the maintenance staff is from the United States and does not understand the international metric system. Help them by converting the temperatures from Celsius to Fahrenheit.\n",
    "To know more about temperature conversion check this [link](https://en.wikipedia.org/wiki/Conversion_of_units_of_temperature).\n",
    "\n",
    "**Formula**: \n",
    "\n",
    "$F = 1.8 * C + 32$"
   ]
  },
  {
   "cell_type": "code",
   "execution_count": 9,
   "metadata": {},
   "outputs": [
    {
     "name": "stdout",
     "output_type": "stream",
     "text": [
      "The list of temperatures in Fahenheit is: [91.4, 150.8, 149.0, 140.0, 138.2, 140.0, 143.60000000000002, 147.2, 158.0, 168.8, 176.0, 177.8, 176.0, 181.4, 194.0, 174.20000000000002, 141.8, 127.4, 122.0, 120.2, 127.4, 118.4, 113.0, 102.2] \n",
      "\n"
     ]
    }
   ],
   "source": [
    "fahrenheit_F = []\n",
    "for i in temperatures_C:\n",
    "    F = 1.8*i + 32\n",
    "    fahrenheit_F.append(F)\n",
    "print(\"The list of temperatures in Fahenheit is:\", fahrenheit_F, \"\\n\") "
   ]
  },
  {
   "cell_type": "markdown",
   "metadata": {},
   "source": [
    "#### 7. Make a decision!\n",
    "Now it's time to make a decision taking into account what you have seen until now. \n",
    "\n",
    "Remember that if one of the following events occurs, then the cooling system needs to be replaced for a new one to avoid damaging the processor.\n",
    "* More than 4 temperatures are greater than or equal to 70ºC.\n",
    "* Any temperature is above 80ºC.\n",
    "* The average temperature exceeds 65ºC.\n",
    "\n",
    "#### To make your decision, check if any of the three conditions above is met. You might need to use some of the variables you created in steps 1 to 6. Print a message to show if the cooling system needs to be changed or not."
   ]
  },
  {
   "cell_type": "code",
   "execution_count": 8,
   "metadata": {},
   "outputs": [
    {
     "name": "stdout",
     "output_type": "stream",
     "text": [
      "My step 2 shows that i found 8 temperatures greater or equal to 70ºC so we can decide TO REPLACE the cooling system!.\n",
      "We also need TO REPLACE the cooling system because we have: [81, 83, 90] above 80ºC!\n",
      "The average: 62.75 ºC doesnt exceed 65ºC\n",
      "But two conditions are MET. Thus, we need TO REPLACE the cooling system yet!\n"
     ]
    }
   ],
   "source": [
    "print(\"My step 2 shows that i found 8 temperatures greater or equal to 70ºC so we can decide TO REPLACE the cooling system!.\")\n",
    "\n",
    "T_greater2 = []\n",
    "for i in temperatures_C:\n",
    "    if i > 80:\n",
    "        T_greater2.append(i)\n",
    "print(\"We also need TO REPLACE the cooling system because we have:\", T_greater2, \"above 80ºC!\")\n",
    "\n",
    "import statistics\n",
    "average_new = statistics.mean(temperatures_C)\n",
    "print(\"The average:\", average_new, \"ºC\", \"doesnt exceed 65ºC\")\n",
    "print(\"But two conditions are MET. Thus, we need TO REPLACE the cooling system yet!\")"
   ]
  },
  {
   "cell_type": "markdown",
   "metadata": {},
   "source": [
    "## Bonus\n",
    "\n",
    "The company has decided that the decision you made is not valid. They want you to analyze the data again but this time, the conditions that need to be met in order to change the cooling system are different.\n",
    "\n",
    "This time, if one of the following events occurs, then the cooling system needs to be replaced:\n",
    "* The temperature is greater than 70ºC during more than 4 consecutive hours.\n",
    "* Any temperature is above 80ºC.\n",
    "* The average temperature exceeds 65ºC.\n",
    "\n",
    "Follow the steps so that you can make the decision.\n",
    "\n",
    "#### 1. Create a list with the hours where the temperature is greater than 70ºC. Store it in a variable."
   ]
  },
  {
   "cell_type": "code",
   "execution_count": 2,
   "metadata": {},
   "outputs": [
    {
     "name": "stdout",
     "output_type": "stream",
     "text": [
      "At 9 AM the temperature: 76 ºC was greater than 70ºC\n",
      "\n",
      "At 10 AM the temperature: 80 ºC was greater than 70ºC\n",
      "\n",
      "At 11 AM the temperature: 81 ºC was greater than 70ºC\n",
      "\n",
      "At 12 PM the temperature: 80 ºC was greater than 70ºC\n",
      "\n",
      "At 13 PM the temperature: 83 ºC was greater than 70ºC\n",
      "\n",
      "At 14 PM the temperature: 90 ºC was greater than 70ºC\n",
      "\n",
      "At 15 PM the temperature: 79 ºC was greater than 70ºC\n",
      "\n"
     ]
    }
   ],
   "source": [
    "temperatures_C = [33, 66, 65, 60, 59, 60, 62, 64, 70, 76, 80, 81, 80, 83, 90, 79, 61, 53, 50, 49, 53, 48, 45, 39]\n",
    "\n",
    "list_step_1 = []\n",
    "time = -1\n",
    "time_1 = []\n",
    "\n",
    "for i in temperatures_C:\n",
    "    time += 1 \n",
    "    time_1.append(time)\n",
    "    \n",
    "    if i > 70:\n",
    "        if time >= 12:\n",
    "            print(\"At\", time, \"PM the temperature:\", i, \"ºC\", \"was greater than 70ºC\")\n",
    "        else:\n",
    "            print(\"At\", time, \"AM the temperature:\", i, \"ºC\", \"was greater than 70ºC\")\n",
    "        list_step_1.append(i)\n",
    "        if time_1[1] - time_1[0] == 1:\n",
    "            print()"
   ]
  },
  {
   "cell_type": "markdown",
   "metadata": {},
   "source": [
    "#### 2. Check if the list you created in step 1 has more than 4 consecutive hours. "
   ]
  },
  {
   "cell_type": "code",
   "execution_count": 4,
   "metadata": {},
   "outputs": [
    {
     "name": "stdout",
     "output_type": "stream",
     "text": [
      "List step 1: [76, 80, 81, 80, 83, 90, 79]\n",
      "The list HAS more than 4 consecutive hours because it started 9 AM and finished 15 PM. Thus, 6 consecutive hours\n",
      "\n"
     ]
    }
   ],
   "source": [
    "# We can check it by counting or requiring python to do this for us.\n",
    "print(\"List step 1:\", list_step_1)\n",
    "print(\"The list HAS more than 4 consecutive hours because it started 9 AM and finished 15 PM. Thus, 6 consecutive hours\\n\")"
   ]
  },
  {
   "cell_type": "markdown",
   "metadata": {},
   "source": [
    "#### 3. Make the decision!\n",
    "To make your decision, check if any of the three conditions is met. Print a message to show if the cooling system needs to be changed or not."
   ]
  },
  {
   "cell_type": "code",
   "execution_count": 5,
   "metadata": {},
   "outputs": [
    {
     "name": "stdout",
     "output_type": "stream",
     "text": [
      "How we found it at step 1 , we will need TO REPLACE the cooling system because there are 6 consecutive hours.\n",
      "In spite of the average 62.75 does not achieved 65ºC...\n",
      "We still need TO REPLACE the cooling system because the first condition met\n",
      "Also, we found before the bonus part that there are 3 temperatures above 80ºC\n",
      "\n",
      "Conclusion: My decision is TO REPLACE the cooling system!\n",
      "\n"
     ]
    }
   ],
   "source": [
    "temperatures_C = [33, 66, 65, 60, 59, 60, 62, 64, 70, 76, 80, 81, 80, 83, 90, 79, 61, 53, 50, 49, 53, 48, 45, 39]\n",
    "print(\"How we found it at step 1 , we will need TO REPLACE the cooling system because there are 6 consecutive hours.\")\n",
    "\n",
    "\n",
    "import statistics\n",
    "average_new = statistics.mean(temperatures_C)\n",
    "print(\"In spite of the average\", average_new, \"does not achieved 65ºC...\")\n",
    "print(\"We still need TO REPLACE the cooling system because the first condition met\")\n",
    "print(\"Also, we found before the bonus part that there are 3 temperatures above 80ºC\\n\")\n",
    "print(\"Conclusion: My decision is TO REPLACE the cooling system!\\n\")"
   ]
  },
  {
   "cell_type": "markdown",
   "metadata": {},
   "source": [
    "#### 4. Find the average value of the temperature lists (ºC and ºF). What is the relation between both average values?"
   ]
  },
  {
   "cell_type": "code",
   "execution_count": 6,
   "metadata": {},
   "outputs": [
    {
     "name": "stdout",
     "output_type": "stream",
     "text": [
      "The average value of ºC list is: 62.75\n",
      "The average value of ºF list is: 144.95000000000002\n",
      "The relation is that F = 1.8*x + 32, also the same formula used before because it applies in any case\n",
      "\n"
     ]
    }
   ],
   "source": [
    "temperatures_C = [33, 66, 65, 60, 59, 60, 62, 64, 70, 76, 80, 81, 80, 83, 90, 79, 61, 53, 50, 49, 53, 48, 45, 39]\n",
    "fahrenheit_F = [91.4, 150.8, 149.0, 140.0, 138.2, 140.0, 143.60000000000002, 147.2, 158.0, 168.8, 176.0, 177.8, 176.0, 181.4,\n",
    "                194.0, 174.20000000000002, 141.8, 127.4, 122.0, 120.2, 127.4, 118.4, 113.0, 102.2]\n",
    "\n",
    "import statistics\n",
    "x = statistics.mean(temperatures_C)\n",
    "y = statistics.mean(fahrenheit_F)\n",
    "print(\"The average value of ºC list is:\", x)\n",
    "print(\"The average value of ºF list is:\", y)\n",
    "print(\"The relation is that F = 1.8*x + 32, also the same formula used before because it applies in any case\\n\")"
   ]
  },
  {
   "cell_type": "markdown",
   "metadata": {},
   "source": [
    "#### 5. Find the standard deviation of the temperature lists (ºC and ºF). What is the relation between both standard deviations?"
   ]
  },
  {
   "cell_type": "code",
   "execution_count": 7,
   "metadata": {},
   "outputs": [
    {
     "name": "stdout",
     "output_type": "stream",
     "text": [
      "The standard desviation of ºC list is: 14.958638626733965\n",
      "The standard desviation of ºF list is: 26.925549528121138\n",
      "The stdev of the ºF is 1.8 rounded times the stdev of the ºC and thats the value of the slope in the equation above\n"
     ]
    }
   ],
   "source": [
    "a = statistics.stdev(temperatures_C)\n",
    "b = statistics.stdev(fahrenheit_F)\n",
    "print(\"The standard desviation of ºC list is:\", a)\n",
    "print(\"The standard desviation of ºF list is:\", b)\n",
    "print(\"The stdev of the ºF is 1.8 rounded times the stdev of the ºC and thats the value of the slope in the equation above\")"
   ]
  }
 ],
 "metadata": {
  "kernelspec": {
   "display_name": "Python 3",
   "language": "python",
   "name": "python3"
  },
  "language_info": {
   "codemirror_mode": {
    "name": "ipython",
    "version": 3
   },
   "file_extension": ".py",
   "mimetype": "text/x-python",
   "name": "python",
   "nbconvert_exporter": "python",
   "pygments_lexer": "ipython3",
   "version": "3.8.5"
  }
 },
 "nbformat": 4,
 "nbformat_minor": 2
}
