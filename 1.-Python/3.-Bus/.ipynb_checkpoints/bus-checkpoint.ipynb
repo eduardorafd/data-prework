{
 "cells": [
  {
   "cell_type": "markdown",
   "metadata": {},
   "source": [
    "<img src=\"https://bit.ly/2VnXWr2\" width=\"100\" align=\"left\">"
   ]
  },
  {
   "cell_type": "markdown",
   "metadata": {},
   "source": [
    "# Bus\n",
    "\n",
    "This bus has a passenger entry and exit control system to monitor the number of occupants it carries and thus detect when there are too many.\n",
    "\n",
    "At each stop, the entry and exit of passengers is represented by a tuple consisting of two integer numbers.\n",
    "```\n",
    "bus_stop = (in, out)\n",
    "```\n",
    "The succession of stops is represented by a list of these tuples.\n",
    "```\n",
    "stops = [(in1, out1), (in2, out2), (in3, out3), (in4, out4)]\n",
    "```\n",
    "\n",
    "## Tools\n",
    "You don't necessarily need to use all the tools. Maybe you opt to use some of them or completely different ones, they are given to help you shape the exercise. Programming exercises can be solved in many different ways.\n",
    "* Data structures: **lists, tuples**\n",
    "* Loop: **while/for loops**\n",
    "* Functions: **min, max, len**\n",
    "\n",
    "## Tasks"
   ]
  },
  {
   "cell_type": "code",
   "execution_count": null,
   "metadata": {},
   "outputs": [],
   "source": [
    "# Variables\n",
    "stops = [(10, 0), (4, 1), (3, 5), (3, 4), (5, 1), (1, 5), (5, 8), (4, 6), (2, 3)]"
   ]
  },
  {
   "cell_type": "markdown",
   "metadata": {},
   "source": [
    "#### 1. Calculate the number of stops."
   ]
  },
  {
   "cell_type": "code",
   "execution_count": 3,
   "metadata": {},
   "outputs": [
    {
     "name": "stdout",
     "output_type": "stream",
     "text": [
      "The number of stops is: 9 \n",
      "\n"
     ]
    }
   ],
   "source": [
    "num_of_stops = len(stops)\n",
    "print(\"The number of stops is:\", num_of_stops, \"\\n\")"
   ]
  },
  {
   "cell_type": "markdown",
   "metadata": {},
   "source": [
    "#### 2. Assign to a variable a list whose elements are the number of passengers at each stop (in-out).\n",
    "Each item depends on the previous item in the list + in - out."
   ]
  },
  {
   "cell_type": "code",
   "execution_count": 2,
   "metadata": {},
   "outputs": [
    {
     "name": "stdout",
     "output_type": "stream",
     "text": [
      "Stop 1 : 10 passengers entered\n",
      "The occupation is: 10 people\n",
      "\n",
      "Stop 2 : 3 passengers entered\n",
      "The occupation is: 13 people\n",
      "\n",
      "Stop 3 : -2 passengers from the bus\n",
      "the occupation is: 11 people\n",
      "\n",
      "Stop 4 : -1 passengers from the bus\n",
      "the occupation is: 10 people\n",
      "\n",
      "Stop 5 : 4 passengers entered\n",
      "The occupation is: 14 people\n",
      "\n",
      "Stop 6 : -4 passengers from the bus\n",
      "the occupation is: 10 people\n",
      "\n",
      "Stop 7 : -3 passengers from the bus\n",
      "the occupation is: 7 people\n",
      "\n",
      "Stop 8 : -2 passengers from the bus\n",
      "the occupation is: 5 people\n",
      "\n",
      "Stop 9 : -1 passengers from the bus\n",
      "the occupation is: 4 people\n",
      "\n"
     ]
    }
   ],
   "source": [
    "stops = [(10, 0), (4, 1), (3, 5), (3, 4), (5, 1), (1, 5), (5, 8), (4, 6), (2, 3)]\n",
    "\n",
    "stop = 0\n",
    "occupation = 0 \n",
    "occupation_total = []\n",
    "\n",
    "for i in stops:\n",
    "    stop += 1\n",
    "    \n",
    "    if i[0] > i[1]:\n",
    "        entered = i[0] - i[1]\n",
    "        print(\"Stop\", stop, \":\", entered, \"passengers entered\")\n",
    "        occupation += entered\n",
    "        print(\"The occupation is:\", occupation, \"people\\n\")\n",
    "        occupation_total.append(occupation)\n",
    "        \n",
    "    elif i[0] == i[1]:\n",
    "        print(\"The stop\", stop, \"do not received any passengers\\n\")   \n",
    "    else:\n",
    "        exited = i[0] - i[1]\n",
    "        occupation += exited\n",
    "        print(\"Stop\", stop, \":\", exited, \"passengers from the bus\")\n",
    "        print(\"the occupation is:\", occupation, \"people\\n\")\n",
    "        occupation_total.append(occupation)"
   ]
  },
  {
   "cell_type": "markdown",
   "metadata": {},
   "source": [
    "#### 3. Find the maximum occupation of the bus."
   ]
  },
  {
   "cell_type": "code",
   "execution_count": 4,
   "metadata": {},
   "outputs": [
    {
     "name": "stdout",
     "output_type": "stream",
     "text": [
      "The maximum occupation was: 14 passengers\n"
     ]
    }
   ],
   "source": [
    "print(\"The maximum occupation was:\", max(occupation_total), \"passengers\")"
   ]
  },
  {
   "cell_type": "markdown",
   "metadata": {},
   "source": [
    "#### 4. Calculate the average occupation. And the standard deviation."
   ]
  },
  {
   "cell_type": "code",
   "execution_count": 5,
   "metadata": {},
   "outputs": [
    {
     "name": "stdout",
     "output_type": "stream",
     "text": [
      "The average occupation is: 9.333333333333334\n",
      "The standard desviation of the occupation is: 3.391164991562634\n"
     ]
    }
   ],
   "source": [
    "import statistics\n",
    "x = statistics.mean(occupation_total)\n",
    "print(\"The average occupation is:\", x,)\n",
    "\n",
    "y = statistics.stdev(occupation_total)\n",
    "print(\"The standard desviation of the occupation is:\", y)"
   ]
  }
 ],
 "metadata": {
  "kernelspec": {
   "display_name": "Python 3",
   "language": "python",
   "name": "python3"
  },
  "language_info": {
   "codemirror_mode": {
    "name": "ipython",
    "version": 3
   },
   "file_extension": ".py",
   "mimetype": "text/x-python",
   "name": "python",
   "nbconvert_exporter": "python",
   "pygments_lexer": "ipython3",
   "version": "3.8.5"
  }
 },
 "nbformat": 4,
 "nbformat_minor": 2
}
